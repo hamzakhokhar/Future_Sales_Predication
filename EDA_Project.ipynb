{
  "nbformat": 4,
  "nbformat_minor": 0,
  "metadata": {
    "kernelspec": {
      "display_name": "Python 3",
      "language": "python",
      "name": "python3"
    },
    "language_info": {
      "codemirror_mode": {
        "name": "ipython",
        "version": 3
      },
      "file_extension": ".py",
      "mimetype": "text/x-python",
      "name": "python",
      "nbconvert_exporter": "python",
      "pygments_lexer": "ipython3",
      "version": "3.8.5"
    },
    "colab": {
      "name": "EDA_Project.ipynb",
      "provenance": [],
      "toc_visible": true,
      "include_colab_link": true
    }
  },
  "cells": [
    {
      "cell_type": "markdown",
      "metadata": {
        "id": "view-in-github",
        "colab_type": "text"
      },
      "source": [
        "<a href=\"https://colab.research.google.com/github/hamzakhokhar/Future_Sales_Predication/blob/main/EDA_Project.ipynb\" target=\"_parent\"><img src=\"https://colab.research.google.com/assets/colab-badge.svg\" alt=\"Open In Colab\"/></a>"
      ]
    },
    {
      "cell_type": "markdown",
      "metadata": {
        "id": "Y_HW2O4620o2"
      },
      "source": [
        "# Future Sales Predication"
      ]
    },
    {
      "cell_type": "code",
      "metadata": {
        "id": "JU3ofzIJ7kfI",
        "outputId": "01eeb8bb-d64e-443b-f18f-0b3d7981a171",
        "colab": {
          "base_uri": "https://localhost:8080/",
          "height": 34
        }
      },
      "source": [
        "from google.colab import drive\n",
        "drive.mount('/content/drive')"
      ],
      "execution_count": 7,
      "outputs": [
        {
          "output_type": "stream",
          "text": [
            "Drive already mounted at /content/drive; to attempt to forcibly remount, call drive.mount(\"/content/drive\", force_remount=True).\n"
          ],
          "name": "stdout"
        }
      ]
    },
    {
      "cell_type": "markdown",
      "metadata": {
        "id": "IO-sLvkw20o3"
      },
      "source": [
        "https://www.kaggle.com/c/competitive-data-science-predict-future-sales/overview"
      ]
    },
    {
      "cell_type": "markdown",
      "metadata": {
        "id": "kFDhTH3n20o4"
      },
      "source": [
        "Challange: We are asking you to predict total sales for every product and store in the next month. By solving this competition you will be able to apply and enhance your data science skills."
      ]
    },
    {
      "cell_type": "code",
      "metadata": {
        "id": "Mu1o0-JK20o4"
      },
      "source": [
        "import pandas as pd"
      ],
      "execution_count": null,
      "outputs": []
    },
    {
      "cell_type": "code",
      "metadata": {
        "id": "J9qvJzGP20o7"
      },
      "source": [
        "item_categories = pd.read_csv('/content/drive/My Drive/Colab Notebooks/DATA_SCIENCE_PROJECT/item_categories.csv')\n",
        "items = pd.read_csv('/content/drive/My Drive/Colab Notebooks/DATA_SCIENCE_PROJECT/items.csv')\n",
        "sales_train = pd.read_csv('/content/drive/My Drive/Colab Notebooks/DATA_SCIENCE_PROJECT/sales_train.csv')\n",
        "sample_submission = pd.read_csv('/content/drive/My Drive/Colab Notebooks/DATA_SCIENCE_PROJECT/sample_submission.csv')\n",
        "shops = pd.read_csv('/content/drive/My Drive/Colab Notebooks/DATA_SCIENCE_PROJECT/shops.csv')\n",
        "test = pd.read_csv('/content/drive/My Drive/Colab Notebooks/DATA_SCIENCE_PROJECT/test.csv')"
      ],
      "execution_count": 9,
      "outputs": []
    },
    {
      "cell_type": "markdown",
      "metadata": {
        "id": "73oYqiaj20o-"
      },
      "source": [
        "# File descriptions\n",
        ">sales_train.csv - the training set. Daily historical data from January 2013 to October 2015.\n",
        "\n",
        ">test.csv - the test set. You need to forecast the sales for these shops and products for November 2015.\n",
        "\n",
        ">sample_submission.csv - a sample submission file in the correct format.\n",
        "\n",
        ">items.csv - supplemental information about the items/products.\n",
        "\n",
        ">item_categories.csv  - supplemental information about the items categories.\n",
        "\n",
        ">shops.csv- supplemental information about the shops.\n",
        "\n",
        "# Data fields\n",
        ">ID - an Id that represents a (Shop, Item) tuple within the test set\n",
        "\n",
        ">shop_id - unique identifier of a shop\n",
        "\n",
        ">item_id - unique identifier of a product\n",
        "\n",
        ">item_category_id - unique identifier of item category\n",
        "\n",
        ">item_cnt_day - number of products sold. You are predicting a monthly amount of this measure\n",
        "\n",
        ">item_price - current price of an item\n",
        "\n",
        ">date - date in format dd/mm/yyyy\n",
        "\n",
        ">date_block_num - a consecutive month number, used for convenience. January 2013 is 0, February 2013 is 1,..., October 2015 is 33\n",
        "\n",
        ">item_name - name of item\n",
        "\n",
        ">shop_name - name of shop\n",
        "\n",
        ">item_category_name - name of item category"
      ]
    },
    {
      "cell_type": "code",
      "metadata": {
        "id": "0jv_kRSE20o-",
        "outputId": "eedad44c-a35e-467c-d103-af89a8095533",
        "colab": {
          "base_uri": "https://localhost:8080/",
          "height": 170
        }
      },
      "source": [
        "item_categories.info()"
      ],
      "execution_count": 10,
      "outputs": [
        {
          "output_type": "stream",
          "text": [
            "<class 'pandas.core.frame.DataFrame'>\n",
            "RangeIndex: 84 entries, 0 to 83\n",
            "Data columns (total 2 columns):\n",
            " #   Column              Non-Null Count  Dtype \n",
            "---  ------              --------------  ----- \n",
            " 0   item_category_name  84 non-null     object\n",
            " 1   item_category_id    84 non-null     int64 \n",
            "dtypes: int64(1), object(1)\n",
            "memory usage: 1.4+ KB\n"
          ],
          "name": "stdout"
        }
      ]
    },
    {
      "cell_type": "code",
      "metadata": {
        "id": "og1TJKDS20pB",
        "outputId": "af1755ee-1341-48ac-e119-ced991e957cc",
        "colab": {
          "base_uri": "https://localhost:8080/",
          "height": 187
        }
      },
      "source": [
        "items.info()"
      ],
      "execution_count": 11,
      "outputs": [
        {
          "output_type": "stream",
          "text": [
            "<class 'pandas.core.frame.DataFrame'>\n",
            "RangeIndex: 22170 entries, 0 to 22169\n",
            "Data columns (total 3 columns):\n",
            " #   Column            Non-Null Count  Dtype \n",
            "---  ------            --------------  ----- \n",
            " 0   item_name         22170 non-null  object\n",
            " 1   item_id           22170 non-null  int64 \n",
            " 2   item_category_id  22170 non-null  int64 \n",
            "dtypes: int64(2), object(1)\n",
            "memory usage: 519.7+ KB\n"
          ],
          "name": "stdout"
        }
      ]
    },
    {
      "cell_type": "code",
      "metadata": {
        "id": "KbcjelUu20pE",
        "outputId": "8f5b5b51-7460-46cf-f78e-1c7cfc454d8d",
        "colab": {
          "base_uri": "https://localhost:8080/",
          "height": 238
        }
      },
      "source": [
        "sales_train.info()"
      ],
      "execution_count": 12,
      "outputs": [
        {
          "output_type": "stream",
          "text": [
            "<class 'pandas.core.frame.DataFrame'>\n",
            "RangeIndex: 2935849 entries, 0 to 2935848\n",
            "Data columns (total 6 columns):\n",
            " #   Column          Dtype  \n",
            "---  ------          -----  \n",
            " 0   date            object \n",
            " 1   date_block_num  int64  \n",
            " 2   shop_id         int64  \n",
            " 3   item_id         int64  \n",
            " 4   item_price      float64\n",
            " 5   item_cnt_day    float64\n",
            "dtypes: float64(2), int64(3), object(1)\n",
            "memory usage: 134.4+ MB\n"
          ],
          "name": "stdout"
        }
      ]
    },
    {
      "cell_type": "code",
      "metadata": {
        "id": "q-195uod20pH",
        "outputId": "2d9b17d0-56e8-4258-f547-6023c17a3ec4",
        "colab": {
          "base_uri": "https://localhost:8080/",
          "height": 170
        }
      },
      "source": [
        "sample_submission.info()"
      ],
      "execution_count": 13,
      "outputs": [
        {
          "output_type": "stream",
          "text": [
            "<class 'pandas.core.frame.DataFrame'>\n",
            "RangeIndex: 214200 entries, 0 to 214199\n",
            "Data columns (total 2 columns):\n",
            " #   Column          Non-Null Count   Dtype  \n",
            "---  ------          --------------   -----  \n",
            " 0   ID              214200 non-null  int64  \n",
            " 1   item_cnt_month  214200 non-null  float64\n",
            "dtypes: float64(1), int64(1)\n",
            "memory usage: 3.3 MB\n"
          ],
          "name": "stdout"
        }
      ]
    },
    {
      "cell_type": "code",
      "metadata": {
        "id": "dXTSOKiC20pK",
        "outputId": "8386388e-7471-452b-8871-8913d90e48e2",
        "colab": {
          "base_uri": "https://localhost:8080/",
          "height": 170
        }
      },
      "source": [
        "shops.info()"
      ],
      "execution_count": 14,
      "outputs": [
        {
          "output_type": "stream",
          "text": [
            "<class 'pandas.core.frame.DataFrame'>\n",
            "RangeIndex: 60 entries, 0 to 59\n",
            "Data columns (total 2 columns):\n",
            " #   Column     Non-Null Count  Dtype \n",
            "---  ------     --------------  ----- \n",
            " 0   shop_name  60 non-null     object\n",
            " 1   shop_id    60 non-null     int64 \n",
            "dtypes: int64(1), object(1)\n",
            "memory usage: 1.1+ KB\n"
          ],
          "name": "stdout"
        }
      ]
    },
    {
      "cell_type": "code",
      "metadata": {
        "id": "gjvkKR2P20pN",
        "outputId": "97de6c9d-8e35-4db9-b8a2-dd2b514efc0f",
        "colab": {
          "base_uri": "https://localhost:8080/",
          "height": 187
        }
      },
      "source": [
        "test.info()"
      ],
      "execution_count": 15,
      "outputs": [
        {
          "output_type": "stream",
          "text": [
            "<class 'pandas.core.frame.DataFrame'>\n",
            "RangeIndex: 214200 entries, 0 to 214199\n",
            "Data columns (total 3 columns):\n",
            " #   Column   Non-Null Count   Dtype\n",
            "---  ------   --------------   -----\n",
            " 0   ID       214200 non-null  int64\n",
            " 1   shop_id  214200 non-null  int64\n",
            " 2   item_id  214200 non-null  int64\n",
            "dtypes: int64(3)\n",
            "memory usage: 4.9 MB\n"
          ],
          "name": "stdout"
        }
      ]
    },
    {
      "cell_type": "code",
      "metadata": {
        "id": "ErZXxa2c20pP"
      },
      "source": [
        ""
      ],
      "execution_count": null,
      "outputs": []
    }
  ]
}